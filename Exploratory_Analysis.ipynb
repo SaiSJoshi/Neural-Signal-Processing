{
  "nbformat": 4,
  "nbformat_minor": 0,
  "metadata": {
    "colab": {
      "name": "Exploratory_Analysis.ipynb",
      "provenance": [],
      "collapsed_sections": [],
      "authorship_tag": "ABX9TyNGav/VFVdJJIF7MB+WjoBQ",
      "include_colab_link": true
    },
    "kernelspec": {
      "name": "python3",
      "display_name": "Python 3"
    },
    "language_info": {
      "name": "python"
    }
  },
  "cells": [
    {
      "cell_type": "markdown",
      "metadata": {
        "id": "view-in-github",
        "colab_type": "text"
      },
      "source": [
        "<a href=\"https://colab.research.google.com/github/SaiSJoshi/Neural-Signal-Processing/blob/main/Exploratory_Analysis.ipynb\" target=\"_parent\"><img src=\"https://colab.research.google.com/assets/colab-badge.svg\" alt=\"Open In Colab\"/></a>"
      ]
    },
    {
      "cell_type": "markdown",
      "source": [
        "# Load data\n"
      ],
      "metadata": {
        "id": "xf9N8WYLWi4s"
      }
    },
    {
      "cell_type": "code",
      "source": [
        "from google.colab import drive\n",
        "drive.mount('/content/gdrive')"
      ],
      "metadata": {
        "colab": {
          "base_uri": "https://localhost:8080/"
        },
        "id": "kTbv5e44AQE9",
        "outputId": "1aebd51f-39e5-471d-cf94-c52fd7e904a1"
      },
      "execution_count": 125,
      "outputs": [
        {
          "output_type": "stream",
          "name": "stdout",
          "text": [
            "Drive already mounted at /content/gdrive; to attempt to forcibly remount, call drive.mount(\"/content/gdrive\", force_remount=True).\n"
          ]
        }
      ]
    },
    {
      "cell_type": "code",
      "source": [
        "!pip install SimpleITK"
      ],
      "metadata": {
        "colab": {
          "base_uri": "https://localhost:8080/"
        },
        "id": "fdatkoFBfOFt",
        "outputId": "4dc877ea-5de1-410e-dd29-1d2470edfd06"
      },
      "execution_count": 126,
      "outputs": [
        {
          "output_type": "stream",
          "name": "stdout",
          "text": [
            "Looking in indexes: https://pypi.org/simple, https://us-python.pkg.dev/colab-wheels/public/simple/\n",
            "Requirement already satisfied: SimpleITK in /usr/local/lib/python3.7/dist-packages (2.1.1.2)\n"
          ]
        }
      ]
    },
    {
      "cell_type": "code",
      "source": [
        "import os\n",
        "import numpy as np\n",
        "import matplotlib.pyplot as plt\n",
        "from tensorflow.keras.preprocessing import image\n",
        "%matplotlib inline\n",
        "import SimpleITK as sitk\n"
      ],
      "metadata": {
        "id": "Z5LMz0A_Wk34"
      },
      "execution_count": 127,
      "outputs": []
    },
    {
      "cell_type": "code",
      "source": [
        "train_dir = '/content/gdrive/MyDrive/AD_NET/AD-Net/sai_stuff/Images/Trail1' # image folder\n",
        "# get the list of jpegs from sub image class folders\n",
        "# normal_images = []\n",
        "# for fn in os.listdir(f'{train_dir}/NORMAL'):\n",
        "#   if fn.endswith('.jpeg'):\n",
        "#     normal_images.append(fn)\n",
        "images_1_5T_path = r'/content/gdrive/MyDrive/AD_NET/AD-Net/sai_stuff/Images/Trail1/ADNI_1.5_T_1to15' # accessing image url\n",
        "images_3T_path = r'/content/gdrive/MyDrive/AD_NET/AD-Net/sai_stuff/Images/Trail1/ADNI_3_T_1to15' # acessing image url\n",
        "t_1_5_imgs = [fn for fn in os.listdir(f'{train_dir}/ADNI_1.5_T_1to15') if fn.endswith('.nii')]\n",
        "t_3_imgs = [fn for fn in os.listdir(f'{train_dir}/ADNI_3_T_1to15') if fn.endswith('.nii')]\n",
        "# t_3_imgs = [fn for fn in os.listdir(f'{images_3T_path}') if fn.endswith('.nii')]\n",
        "print(t_1_5_imgs)"
      ],
      "metadata": {
        "colab": {
          "base_uri": "https://localhost:8080/"
        },
        "id": "jkCySrBOAHwc",
        "outputId": "5ff15445-bb77-4c72-b000-39bc2e7cbe6c"
      },
      "execution_count": 124,
      "outputs": [
        {
          "output_type": "stream",
          "name": "stdout",
          "text": [
            "[]\n"
          ]
        }
      ]
    },
    {
      "cell_type": "markdown",
      "source": [
        "# Image Matrix"
      ],
      "metadata": {
        "id": "jjwhZfjxWm5h"
      }
    },
    {
      "cell_type": "code",
      "source": [
        "# making n X m matrix\n",
        "def img2np(path, list_of_filename, size = (64, 64)):\n",
        "    # iterating through each file\n",
        "    full_mat = None\n",
        "    # print(list_of_filename)\n",
        "    for fn in list_of_filename:\n",
        "        img_path = path + fn\n",
        "        \n",
        "        # Read the image and print its size and display one slice algong with converting it into Numpy\n",
        "        img = sitk.ReadImage(img_path)\n",
        "        fp = sitk.GetArrayFromImage(img)#converting into Numpy\n",
        "        print(fp.shape)\n",
        "        print(img.GetSize())\n",
        "        plt.imshow(fp[:,120,:])\n",
        "        \n",
        "        \n",
        "        current_image = image.load_img(fp, target_size = size, color_mode = 'grayscale')\n",
        "\n",
        "        \n",
        "        # covert image to a matrix\n",
        "        img_ts = image.img_to_array(current_image)\n",
        "        \n",
        "        # turn that into a vector / 1D array\n",
        "        img_ts = [img_ts.ravel()]\n",
        "        if full_mat:\n",
        "            # concatenate different images\n",
        "            full_mat = np.concatenate((full_mat, img_ts))\n",
        "        else: \n",
        "            # if not assigned yet, assign one\n",
        "            full_mat = img_ts\n",
        "    return full_mat\n",
        "\n",
        "    \n",
        "\n",
        "# run it on our folders\n",
        "image_matrix_1_5_T = img2np(f'{images_1_5T_path}/1.5T/', t_1_5_imgs)\n",
        "# print(image_matrix_1_5_T, t_1_5_imgs)\n",
        "image_matrix_3_T = img2np(f'{images_3T_path}/3T/', t_3_imgs)\n"
      ],
      "metadata": {
        "id": "ipIrBRQkWl7o",
        "colab": {
          "base_uri": "https://localhost:8080/"
        },
        "outputId": "2213391b-9b8a-42c0-c158-c442ce78310c"
      },
      "execution_count": 121,
      "outputs": [
        {
          "output_type": "stream",
          "name": "stdout",
          "text": [
            "[]\n",
            "[]\n"
          ]
        }
      ]
    },
    {
      "cell_type": "markdown",
      "source": [
        "# Average Image"
      ],
      "metadata": {
        "id": "SZ2fBAeIW0au"
      }
    },
    {
      "cell_type": "code",
      "source": [
        "def find_mean_img(full_mat, title, size = (64, 64)):\n",
        "    \n",
        "    # calculate the average\n",
        "    mean_img = np.mean(full_mat, axis = 0)\n",
        "\n",
        "    # reshape it back to a matrix\n",
        "    mean_img = mean_img.reshape(size)\n",
        "    plt.imshow(mean_img, vmin=0, vmax=255, cmap='Greys_r')\n",
        "    plt.title(f'Average {title}')\n",
        "    plt.axis('off')\n",
        "    plt.show()\n",
        "    return mean_img\n",
        "\n",
        "mean_1_5_T = find_mean_img(image_matrix_1_5_T,'1.5_T')\n",
        "mean_3_T = find_mean_img(image_matrix_3_T,'3_T')"
      ],
      "metadata": {
        "id": "pAzF4JWhW5QZ",
        "colab": {
          "base_uri": "https://localhost:8080/",
          "height": 408
        },
        "outputId": "090a7fdb-8d2d-427c-ae92-e2952ba7f5f5"
      },
      "execution_count": 107,
      "outputs": [
        {
          "output_type": "error",
          "ename": "AxisError",
          "evalue": "ignored",
          "traceback": [
            "\u001b[0;31m---------------------------------------------------------------------------\u001b[0m",
            "\u001b[0;31mAxisError\u001b[0m                                 Traceback (most recent call last)",
            "\u001b[0;32m<ipython-input-107-18ea2f6ee25c>\u001b[0m in \u001b[0;36m<module>\u001b[0;34m()\u001b[0m\n\u001b[1;32m     12\u001b[0m     \u001b[0;32mreturn\u001b[0m \u001b[0mmean_img\u001b[0m\u001b[0;34m\u001b[0m\u001b[0;34m\u001b[0m\u001b[0m\n\u001b[1;32m     13\u001b[0m \u001b[0;34m\u001b[0m\u001b[0m\n\u001b[0;32m---> 14\u001b[0;31m \u001b[0mmean_1_5_T\u001b[0m \u001b[0;34m=\u001b[0m \u001b[0mfind_mean_img\u001b[0m\u001b[0;34m(\u001b[0m\u001b[0mimage_matrix_1_5_T\u001b[0m\u001b[0;34m,\u001b[0m\u001b[0;34m'1.5_T'\u001b[0m\u001b[0;34m)\u001b[0m\u001b[0;34m\u001b[0m\u001b[0;34m\u001b[0m\u001b[0m\n\u001b[0m\u001b[1;32m     15\u001b[0m \u001b[0mmean_3_T\u001b[0m \u001b[0;34m=\u001b[0m \u001b[0mfind_mean_img\u001b[0m\u001b[0;34m(\u001b[0m\u001b[0mimage_matrix_3_T\u001b[0m\u001b[0;34m,\u001b[0m\u001b[0;34m'3_T'\u001b[0m\u001b[0;34m)\u001b[0m\u001b[0;34m\u001b[0m\u001b[0;34m\u001b[0m\u001b[0m\n",
            "\u001b[0;32m<ipython-input-107-18ea2f6ee25c>\u001b[0m in \u001b[0;36mfind_mean_img\u001b[0;34m(full_mat, title, size)\u001b[0m\n\u001b[1;32m      2\u001b[0m \u001b[0;34m\u001b[0m\u001b[0m\n\u001b[1;32m      3\u001b[0m     \u001b[0;31m# calculate the average\u001b[0m\u001b[0;34m\u001b[0m\u001b[0;34m\u001b[0m\u001b[0;34m\u001b[0m\u001b[0m\n\u001b[0;32m----> 4\u001b[0;31m     \u001b[0mmean_img\u001b[0m \u001b[0;34m=\u001b[0m \u001b[0mnp\u001b[0m\u001b[0;34m.\u001b[0m\u001b[0mmean\u001b[0m\u001b[0;34m(\u001b[0m\u001b[0mfull_mat\u001b[0m\u001b[0;34m,\u001b[0m \u001b[0maxis\u001b[0m \u001b[0;34m=\u001b[0m \u001b[0;36m0\u001b[0m\u001b[0;34m)\u001b[0m\u001b[0;34m\u001b[0m\u001b[0;34m\u001b[0m\u001b[0m\n\u001b[0m\u001b[1;32m      5\u001b[0m \u001b[0;34m\u001b[0m\u001b[0m\n\u001b[1;32m      6\u001b[0m     \u001b[0;31m# reshape it back to a matrix\u001b[0m\u001b[0;34m\u001b[0m\u001b[0;34m\u001b[0m\u001b[0;34m\u001b[0m\u001b[0m\n",
            "\u001b[0;32m<__array_function__ internals>\u001b[0m in \u001b[0;36mmean\u001b[0;34m(*args, **kwargs)\u001b[0m\n",
            "\u001b[0;32m/usr/local/lib/python3.7/dist-packages/numpy/core/fromnumeric.py\u001b[0m in \u001b[0;36mmean\u001b[0;34m(a, axis, dtype, out, keepdims, where)\u001b[0m\n\u001b[1;32m   3439\u001b[0m \u001b[0;34m\u001b[0m\u001b[0m\n\u001b[1;32m   3440\u001b[0m     return _methods._mean(a, axis=axis, dtype=dtype,\n\u001b[0;32m-> 3441\u001b[0;31m                           out=out, **kwargs)\n\u001b[0m\u001b[1;32m   3442\u001b[0m \u001b[0;34m\u001b[0m\u001b[0m\n\u001b[1;32m   3443\u001b[0m \u001b[0;34m\u001b[0m\u001b[0m\n",
            "\u001b[0;32m/usr/local/lib/python3.7/dist-packages/numpy/core/_methods.py\u001b[0m in \u001b[0;36m_mean\u001b[0;34m(a, axis, dtype, out, keepdims, where)\u001b[0m\n\u001b[1;32m    165\u001b[0m     \u001b[0mis_float16_result\u001b[0m \u001b[0;34m=\u001b[0m \u001b[0;32mFalse\u001b[0m\u001b[0;34m\u001b[0m\u001b[0;34m\u001b[0m\u001b[0m\n\u001b[1;32m    166\u001b[0m \u001b[0;34m\u001b[0m\u001b[0m\n\u001b[0;32m--> 167\u001b[0;31m     \u001b[0mrcount\u001b[0m \u001b[0;34m=\u001b[0m \u001b[0m_count_reduce_items\u001b[0m\u001b[0;34m(\u001b[0m\u001b[0marr\u001b[0m\u001b[0;34m,\u001b[0m \u001b[0maxis\u001b[0m\u001b[0;34m,\u001b[0m \u001b[0mkeepdims\u001b[0m\u001b[0;34m=\u001b[0m\u001b[0mkeepdims\u001b[0m\u001b[0;34m,\u001b[0m \u001b[0mwhere\u001b[0m\u001b[0;34m=\u001b[0m\u001b[0mwhere\u001b[0m\u001b[0;34m)\u001b[0m\u001b[0;34m\u001b[0m\u001b[0;34m\u001b[0m\u001b[0m\n\u001b[0m\u001b[1;32m    168\u001b[0m     \u001b[0;32mif\u001b[0m \u001b[0mrcount\u001b[0m \u001b[0;34m==\u001b[0m \u001b[0;36m0\u001b[0m \u001b[0;32mif\u001b[0m \u001b[0mwhere\u001b[0m \u001b[0;32mis\u001b[0m \u001b[0;32mTrue\u001b[0m \u001b[0;32melse\u001b[0m \u001b[0mumr_any\u001b[0m\u001b[0;34m(\u001b[0m\u001b[0mrcount\u001b[0m \u001b[0;34m==\u001b[0m \u001b[0;36m0\u001b[0m\u001b[0;34m,\u001b[0m \u001b[0maxis\u001b[0m\u001b[0;34m=\u001b[0m\u001b[0;32mNone\u001b[0m\u001b[0;34m)\u001b[0m\u001b[0;34m:\u001b[0m\u001b[0;34m\u001b[0m\u001b[0;34m\u001b[0m\u001b[0m\n\u001b[1;32m    169\u001b[0m         \u001b[0mwarnings\u001b[0m\u001b[0;34m.\u001b[0m\u001b[0mwarn\u001b[0m\u001b[0;34m(\u001b[0m\u001b[0;34m\"Mean of empty slice.\"\u001b[0m\u001b[0;34m,\u001b[0m \u001b[0mRuntimeWarning\u001b[0m\u001b[0;34m,\u001b[0m \u001b[0mstacklevel\u001b[0m\u001b[0;34m=\u001b[0m\u001b[0;36m2\u001b[0m\u001b[0;34m)\u001b[0m\u001b[0;34m\u001b[0m\u001b[0;34m\u001b[0m\u001b[0m\n",
            "\u001b[0;32m/usr/local/lib/python3.7/dist-packages/numpy/core/_methods.py\u001b[0m in \u001b[0;36m_count_reduce_items\u001b[0;34m(arr, axis, keepdims, where)\u001b[0m\n\u001b[1;32m     74\u001b[0m         \u001b[0mitems\u001b[0m \u001b[0;34m=\u001b[0m \u001b[0mnt\u001b[0m\u001b[0;34m.\u001b[0m\u001b[0mintp\u001b[0m\u001b[0;34m(\u001b[0m\u001b[0;36m1\u001b[0m\u001b[0;34m)\u001b[0m\u001b[0;34m\u001b[0m\u001b[0;34m\u001b[0m\u001b[0m\n\u001b[1;32m     75\u001b[0m         \u001b[0;32mfor\u001b[0m \u001b[0max\u001b[0m \u001b[0;32min\u001b[0m \u001b[0maxis\u001b[0m\u001b[0;34m:\u001b[0m\u001b[0;34m\u001b[0m\u001b[0;34m\u001b[0m\u001b[0m\n\u001b[0;32m---> 76\u001b[0;31m             \u001b[0mitems\u001b[0m \u001b[0;34m*=\u001b[0m \u001b[0marr\u001b[0m\u001b[0;34m.\u001b[0m\u001b[0mshape\u001b[0m\u001b[0;34m[\u001b[0m\u001b[0mmu\u001b[0m\u001b[0;34m.\u001b[0m\u001b[0mnormalize_axis_index\u001b[0m\u001b[0;34m(\u001b[0m\u001b[0max\u001b[0m\u001b[0;34m,\u001b[0m \u001b[0marr\u001b[0m\u001b[0;34m.\u001b[0m\u001b[0mndim\u001b[0m\u001b[0;34m)\u001b[0m\u001b[0;34m]\u001b[0m\u001b[0;34m\u001b[0m\u001b[0;34m\u001b[0m\u001b[0m\n\u001b[0m\u001b[1;32m     77\u001b[0m     \u001b[0;32melse\u001b[0m\u001b[0;34m:\u001b[0m\u001b[0;34m\u001b[0m\u001b[0;34m\u001b[0m\u001b[0m\n\u001b[1;32m     78\u001b[0m         \u001b[0;31m# TODO: Optimize case when `where` is broadcast along a non-reduction\u001b[0m\u001b[0;34m\u001b[0m\u001b[0;34m\u001b[0m\u001b[0;34m\u001b[0m\u001b[0m\n",
            "\u001b[0;31mAxisError\u001b[0m: axis 0 is out of bounds for array of dimension 0"
          ]
        }
      ]
    },
    {
      "cell_type": "markdown",
      "source": [
        "# Contrast between Average Images"
      ],
      "metadata": {
        "id": "sYIR2GKQW6sZ"
      }
    },
    {
      "cell_type": "code",
      "source": [
        "contrast_mean = norm_mean - AD_mean\n",
        "plt.imshow(contrast_mean, cmap='bwr')\n",
        "plt.title(f'Difference Between Normal & AD Average')\n",
        "plt.axis('off')\n",
        "plt.show()"
      ],
      "metadata": {
        "id": "r7tsrsjgXDCK"
      },
      "execution_count": null,
      "outputs": []
    },
    {
      "cell_type": "markdown",
      "source": [
        "# Eigen Images"
      ],
      "metadata": {
        "id": "mFNfbRBWXMai"
      }
    },
    {
      "cell_type": "code",
      "source": [
        "from sklearn.decomposition import PCA\n",
        "from math import ceil\n",
        "\n",
        "def eigenimages(full_mat, title, n_comp = 0.7, size = (64, 64)):\n",
        "    # fit PCA to describe n_comp * variability in the class\n",
        "    pca = PCA(n_components = n_comp, whiten = True)\n",
        "    pca.fit(full_mat)\n",
        "    print('Number of PC: ', pca.n_components_)\n",
        "    return pca\n",
        "  \n",
        "def plot_pca(pca, size = (64, 64)):\n",
        "    # plot eigenimages in a grid\n",
        "    n = pca.n_components_\n",
        "    fig = plt.figure(figsize=(8, 8))\n",
        "    r = int(n**.5)\n",
        "    c = ceil(n/ r)\n",
        "    for i in range(n):\n",
        "        ax = fig.add_subplot(r, c, i + 1, xticks = [], yticks = [])\n",
        "        ax.imshow(pca.components_[i].reshape(size), \n",
        "                  cmap='Greys_r')\n",
        "    plt.axis('off')\n",
        "    plt.show()\n",
        "    \n",
        "plot_pca(eigenimages(normal_images, 'NORMAL'))\n",
        "plot_pca(eigenimages(AD_images, 'AD'))"
      ],
      "metadata": {
        "id": "Ymd_aZZyXDu8"
      },
      "execution_count": null,
      "outputs": []
    }
  ]
}